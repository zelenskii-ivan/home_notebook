{
 "cells": [
  {
   "attachments": {},
   "cell_type": "markdown",
   "metadata": {},
   "source": [
    "#### Условие 2:\n",
    "__*На складе лежат разные фрукты в разном количестве.\n",
    "Нужно написать функцию, которая на вход принимает любое количество названий фруктов и их количество, а возвращает общее количество фруктов на складе.*__"
   ]
  },
  {
   "cell_type": "code",
   "execution_count": 72,
   "metadata": {},
   "outputs": [],
   "source": [
    "def fruit_basket(**kwargs):\n",
    "    {print(f\"Фрукт {name} в количестве {values} шт\")\n",
    "     for name, values in kwargs.items()}\n",
    "    return print(f'Общее количество фрутов: {sum(kwargs.values())}')"
   ]
  },
  {
   "cell_type": "code",
   "execution_count": 73,
   "metadata": {},
   "outputs": [
    {
     "name": "stdout",
     "output_type": "stream",
     "text": [
      "Фрукт apple в количестве 23 шт\n",
      "Фрукт orange в количестве 15 шт\n",
      "Фрукт lemon в количестве 5 шт\n",
      "Общее количество фрутов: 43\n"
     ]
    }
   ],
   "source": [
    "fruit_basket(\n",
    "    apple = 23,\n",
    "    orange = 15,\n",
    "    lemon = 5\n",
    ")"
   ]
  }
 ],
 "metadata": {
  "kernelspec": {
   "display_name": "Python 3",
   "language": "python",
   "name": "python3"
  },
  "language_info": {
   "codemirror_mode": {
    "name": "ipython",
    "version": 3
   },
   "file_extension": ".py",
   "mimetype": "text/x-python",
   "name": "python",
   "nbconvert_exporter": "python",
   "pygments_lexer": "ipython3",
   "version": "3.11.3"
  },
  "orig_nbformat": 4
 },
 "nbformat": 4,
 "nbformat_minor": 2
}