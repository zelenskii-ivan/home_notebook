{
 "cells": [
  {
   "attachments": {},
   "cell_type": "markdown",
   "metadata": {},
   "source": [
    "#### Условие 1:\n",
    "__*Оформляйте ноутбук*__"
   ]
  },
  {
   "attachments": {},
   "cell_type": "markdown",
   "metadata": {},
   "source": [
    "<img src=\"http://koptelov.info/wp-content/uploads/2016/06/business-intelligence.png\" width=\"630\" height=\"400\" alt=\"\" />"
   ]
  },
  {
   "attachments": {},
   "cell_type": "markdown",
   "metadata": {},
   "source": [
    "<style type=\"text/css\">\n",
    "    table {\n",
    "    background: maroon; /* Цвет фона таблицы */\n",
    "    color: white; /* Цвет текста */\n",
    "    }\n",
    "    td {\n",
    "    background: navy; /* Цвет фона ячеек */\n",
    "    }\n",
    "</style>\n",
    "<table>\n",
    "            <tr>\n",
    "                <th></th>\n",
    "                <th>До события</th>\n",
    "                <th>Время события</th>\n",
    "            </tr>\n",
    "            <tr>\n",
    "                <td><b>1 контрольная точка</b></td><td>250</td><td>500</td>\n",
    "            </tr>\n",
    "            <tr>\n",
    "                <td><b>2 контрольная точка</b></td><td>350</td><td>700</td>\n",
    "            </tr>\n",
    "            <tr>\n",
    "                <td><b>3 контрольная точка</b></td><td>400</td><td>800</td>\n",
    "            </tr>\n",
    "            <tr>\n",
    "                <td></td><td></td><td></td>\n",
    "            </tr>\n",
    "            <tr>\n",
    "                <td><b>Итого за победу</b></td><td>1000</td><td>2000</td>\n",
    "            </tr>\n",
    "</table>"
   ]
  }
 ],
 "metadata": {
  "language_info": {
   "name": "python"
  },
  "orig_nbformat": 4
 },
 "nbformat": 4,
 "nbformat_minor": 2
}